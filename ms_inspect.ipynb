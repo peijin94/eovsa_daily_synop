{
 "cells": [
  {
   "cell_type": "code",
   "execution_count": 54,
   "metadata": {},
   "outputs": [],
   "source": [
    "import numpy as np\n",
    "\n",
    "# update import\n",
    "%load_ext autoreload\n",
    "%autoreload 2"
   ]
  },
  {
   "cell_type": "code",
   "execution_count": 2,
   "metadata": {},
   "outputs": [
    {
     "name": "stdout",
     "output_type": "stream",
     "text": [
      "measures_update ... acquiring the lock ... \n"
     ]
    },
    {
     "name": "stderr",
     "output_type": "stream",
     "text": [
      "lock file is not empty : /Users/peijinz/.casa/data/data_update.lock\n",
      "The lock file at /Users/peijinz/.casa/data is not empty.\n",
      "A previous attempt to update path may have failed or exited prematurely.\n",
      "Remove the lock file and set force to True with the desired version (default to most recent).\n",
      "It may be best to completely repopulate path using pull_data and measures_update.\n",
      "2024-12-19 21:33:20\tSEVERE\t::casa\tlock file is not empty : /Users/peijinz/.casa/data/data_update.lock\n",
      "2024-12-19 21:33:20\tSEVERE\t::casa\tThe lock file at /Users/peijinz/.casa/data is not empty.\n",
      "2024-12-19 21:33:20\tSEVERE\t::casa\tA previous attempt to update path may have failed or exited prematurely.\n",
      "2024-12-19 21:33:20\tSEVERE\t::casa\tRemove the lock file and set force to True with the desired version (default to most recent).\n",
      "2024-12-19 21:33:20\tSEVERE\t::casa\tIt may be best to completely repopulate path using pull_data and measures_update.\n",
      "2024-12-19 21:33:20\tSEVERE\t::casa\t\n",
      "2024-12-19 21:33:20\tSEVERE\t::casa\tlock file is not empty : /Users/peijinz/.casa/data/data_update.lock\n",
      "2024-12-19 21:33:20\tSEVERE\t::casa\tvisit https://casadocs.readthedocs.io/en/stable/notebooks/external-data.html for more information\n",
      "2024-12-19 21:33:20\tSEVERE\t::casa\t\n"
     ]
    }
   ],
   "source": [
    "# import msmd\n",
    "from casatools import msmetadata "
   ]
  },
  {
   "cell_type": "code",
   "execution_count": 3,
   "metadata": {},
   "outputs": [],
   "source": [
    "import numpy as np\n",
    "from casatools import msmetadata\n",
    "from astropy.time import Time\n",
    "\n",
    "def print_ms_summary(vis):\n",
    "    \"\"\"\n",
    "    Print a detailed summary of a measurement set using msmetadata tool\n",
    "    \n",
    "    Parameters:\n",
    "    vis (str): Path to the measurement set\n",
    "    \"\"\"\n",
    "    # Initialize the msmetadata tool\n",
    "    msmd = msmetadata()\n",
    "    msmd.open(vis)\n",
    "    \n",
    "    print(f\"\\n=== Summary for {vis} ===\")\n",
    "    \n",
    "    # Basic observation info\n",
    "    print(\"\\nObservation Details:\")\n",
    "    print(f\"Number of fields: {msmd.nfields()}\")\n",
    "    print(f\"Number of scans: {msmd.nscans()}\")\n",
    "    print(f\"Number of spectral windows: {msmd.nspw()}\")\n",
    "    print(f\"Number of antennas: {msmd.nantennas()}\")\n",
    "    \n",
    "    # Time information\n",
    "    print(\"\\nTime Range:\")\n",
    "    time_range = msmd.timerangeforobs(0)\n",
    "    start_time = time_range['begin']['m0']['value']  # in days\n",
    "    end_time = time_range['end']['m0']['value']      # in days\n",
    "    duration_hours = (end_time - start_time) * 24.0  # convert days to hours\n",
    "    \n",
    "    # Get unique times using msmd.timesforfield\n",
    "    times = msmd.timesforfield(0)  # assuming field 0\n",
    "    ntimes = len(times)\n",
    "    print(f\"Number of unique times: {ntimes}\")\n",
    "\n",
    "    # Convert MJD to human readable format\n",
    "    t_start = Time(start_time, format='mjd')\n",
    "    t_end = Time(end_time, format='mjd')\n",
    "    print(f\"Start time (MJD): {start_time:.6f} ({time_range['begin']['refer']})\")\n",
    "    print(f\"End time (MJD): {end_time:.6f} ({time_range['end']['refer']})\")\n",
    "    print(f\"Start time (UTC): {t_start.iso}\")\n",
    "    print(f\"End time (UTC): {t_end.iso}\")\n",
    "    print(f\"Total time span: {duration_hours:.2f} hours\")\n",
    "    \n",
    "    # Field information\n",
    "    print(\"\\nFields:\")\n",
    "    for field_id in range(msmd.nfields()):\n",
    "        print(f\"Field {field_id}: {msmd.fieldnames()[field_id]}\")\n",
    "        print(f\"  Direction: {msmd.phasecenter(field_id)['m0']['value']:.3f}, \"\n",
    "              f\"{msmd.phasecenter(field_id)['m1']['value']:.3f} (rad)\")\n",
    "    \n",
    "    # Spectral Window information\n",
    "    print(\"\\nSpectral Windows:\")\n",
    "    for spw in range(msmd.nspw()):\n",
    "        freq_range = msmd.chanfreqs(spw)\n",
    "        print(f\"SPW {spw}:  N_ch: {msmd.nchan(spw)} \\t Freq: {freq_range[0]/1e9:.3f} - {freq_range[-1]/1e9:.3f} GHz \\t Ch_w: {abs(msmd.chanwidths(spw)[0])/1e3:.1f} kHz \\t Totbw: {msmd.bandwidths(spw)/1e6:.2f} MHz\")\n",
    "\n",
    "    # Antenna information\n",
    "    print(\"\\nAntennas:\")\n",
    "    print(f\"Names: {', '.join(msmd.antennanames())}\")\n",
    "    \n",
    "    # Close the tool\n",
    "    msmd.done()"
   ]
  },
  {
   "cell_type": "code",
   "execution_count": 4,
   "metadata": {},
   "outputs": [
    {
     "name": "stderr",
     "output_type": "stream",
     "text": [
      "2024-12-19 21:33:22\tINFO\tmsmetadata_cmpt.cc::open\tPerforming internal consistency checks on ./UDB20241215.ms...\n",
      "2024-12-19 21:33:22\tINFO\tMSMetaData::_computeScanAndSubScanProperties \tComputing scan and subscan properties...\n"
     ]
    },
    {
     "name": "stdout",
     "output_type": "stream",
     "text": [
      "\n",
      "=== Summary for ./UDB20241215.ms ===\n",
      "\n",
      "Observation Details:\n",
      "Number of fields: 1\n",
      "Number of scans: 5\n",
      "Number of spectral windows: 50\n",
      "Number of antennas: 16\n",
      "\n",
      "Time Range:\n",
      "Number of unique times: 387\n",
      "Start time (MJD): 60659.671464 (UTC)\n",
      "End time (MJD): 60659.979809 (UTC)\n",
      "Start time (UTC): 2024-12-15 16:06:54.500\n",
      "End time (UTC): 2024-12-15 23:30:55.500\n",
      "Total time span: 7.40 hours\n",
      "\n",
      "Fields:\n",
      "Field 0: Sun\n",
      "  Direction: -1.688, -0.407 (rad)\n",
      "\n",
      "Spectral Windows:\n",
      "SPW 0:  N_ch: 30 \t Freq: 1.100 - 1.412 GHz \t Ch_w: 10742.2 kHz \t Totbw: 322.27 MHz\n",
      "SPW 1:  N_ch: 22 \t Freq: 1.425 - 1.735 GHz \t Ch_w: 14746.1 kHz \t Totbw: 324.41 MHz\n",
      "SPW 2:  N_ch: 13 \t Freq: 2.400 - 2.700 GHz \t Ch_w: 25000.0 kHz \t Totbw: 325.00 MHz\n",
      "SPW 3:  N_ch: 12 \t Freq: 2.725 - 3.023 GHz \t Ch_w: 27050.8 kHz \t Totbw: 324.61 MHz\n",
      "SPW 4:  N_ch: 11 \t Freq: 3.050 - 3.345 GHz \t Ch_w: 29492.2 kHz \t Totbw: 324.41 MHz\n",
      "SPW 5:  N_ch: 10 \t Freq: 3.375 - 3.667 GHz \t Ch_w: 32421.9 kHz \t Totbw: 324.22 MHz\n",
      "SPW 6:  N_ch: 9 \t Freq: 3.700 - 3.988 GHz \t Ch_w: 36035.2 kHz \t Totbw: 324.32 MHz\n",
      "SPW 7:  N_ch: 8 \t Freq: 4.025 - 4.309 GHz \t Ch_w: 40625.0 kHz \t Totbw: 325.00 MHz\n",
      "SPW 8:  N_ch: 8 \t Freq: 4.350 - 4.634 GHz \t Ch_w: 40625.0 kHz \t Totbw: 325.00 MHz\n",
      "SPW 9:  N_ch: 8 \t Freq: 4.675 - 4.959 GHz \t Ch_w: 40625.0 kHz \t Totbw: 325.00 MHz\n",
      "SPW 10:  N_ch: 8 \t Freq: 5.000 - 5.284 GHz \t Ch_w: 40625.0 kHz \t Totbw: 325.00 MHz\n",
      "SPW 11:  N_ch: 8 \t Freq: 5.325 - 5.609 GHz \t Ch_w: 40625.0 kHz \t Totbw: 325.00 MHz\n",
      "SPW 12:  N_ch: 8 \t Freq: 5.650 - 5.934 GHz \t Ch_w: 40625.0 kHz \t Totbw: 325.00 MHz\n",
      "SPW 13:  N_ch: 8 \t Freq: 5.975 - 6.259 GHz \t Ch_w: 40625.0 kHz \t Totbw: 325.00 MHz\n",
      "SPW 14:  N_ch: 8 \t Freq: 6.300 - 6.584 GHz \t Ch_w: 40625.0 kHz \t Totbw: 325.00 MHz\n",
      "SPW 15:  N_ch: 8 \t Freq: 6.625 - 6.909 GHz \t Ch_w: 40625.0 kHz \t Totbw: 325.00 MHz\n",
      "SPW 16:  N_ch: 8 \t Freq: 6.950 - 7.234 GHz \t Ch_w: 40625.0 kHz \t Totbw: 325.00 MHz\n",
      "SPW 17:  N_ch: 8 \t Freq: 7.275 - 7.559 GHz \t Ch_w: 40625.0 kHz \t Totbw: 325.00 MHz\n",
      "SPW 18:  N_ch: 8 \t Freq: 7.600 - 7.884 GHz \t Ch_w: 40625.0 kHz \t Totbw: 325.00 MHz\n",
      "SPW 19:  N_ch: 8 \t Freq: 7.925 - 8.209 GHz \t Ch_w: 40625.0 kHz \t Totbw: 325.00 MHz\n",
      "SPW 20:  N_ch: 8 \t Freq: 8.250 - 8.534 GHz \t Ch_w: 40625.0 kHz \t Totbw: 325.00 MHz\n",
      "SPW 21:  N_ch: 8 \t Freq: 8.575 - 8.859 GHz \t Ch_w: 40625.0 kHz \t Totbw: 325.00 MHz\n",
      "SPW 22:  N_ch: 8 \t Freq: 8.900 - 9.184 GHz \t Ch_w: 40625.0 kHz \t Totbw: 325.00 MHz\n",
      "SPW 23:  N_ch: 8 \t Freq: 9.225 - 9.509 GHz \t Ch_w: 40625.0 kHz \t Totbw: 325.00 MHz\n",
      "SPW 24:  N_ch: 8 \t Freq: 9.550 - 9.834 GHz \t Ch_w: 40625.0 kHz \t Totbw: 325.00 MHz\n",
      "SPW 25:  N_ch: 8 \t Freq: 9.875 - 10.159 GHz \t Ch_w: 40625.0 kHz \t Totbw: 325.00 MHz\n",
      "SPW 26:  N_ch: 8 \t Freq: 10.200 - 10.484 GHz \t Ch_w: 40625.0 kHz \t Totbw: 325.00 MHz\n",
      "SPW 27:  N_ch: 8 \t Freq: 10.525 - 10.809 GHz \t Ch_w: 40625.0 kHz \t Totbw: 325.00 MHz\n",
      "SPW 28:  N_ch: 8 \t Freq: 10.850 - 11.134 GHz \t Ch_w: 40625.0 kHz \t Totbw: 325.00 MHz\n",
      "SPW 29:  N_ch: 8 \t Freq: 11.175 - 11.459 GHz \t Ch_w: 40625.0 kHz \t Totbw: 325.00 MHz\n",
      "SPW 30:  N_ch: 8 \t Freq: 11.500 - 11.784 GHz \t Ch_w: 40625.0 kHz \t Totbw: 325.00 MHz\n",
      "SPW 31:  N_ch: 8 \t Freq: 11.825 - 12.109 GHz \t Ch_w: 40625.0 kHz \t Totbw: 325.00 MHz\n",
      "SPW 32:  N_ch: 8 \t Freq: 12.150 - 12.434 GHz \t Ch_w: 40625.0 kHz \t Totbw: 325.00 MHz\n",
      "SPW 33:  N_ch: 8 \t Freq: 12.475 - 12.759 GHz \t Ch_w: 40625.0 kHz \t Totbw: 325.00 MHz\n",
      "SPW 34:  N_ch: 8 \t Freq: 12.800 - 13.084 GHz \t Ch_w: 40625.0 kHz \t Totbw: 325.00 MHz\n",
      "SPW 35:  N_ch: 8 \t Freq: 13.125 - 13.409 GHz \t Ch_w: 40625.0 kHz \t Totbw: 325.00 MHz\n",
      "SPW 36:  N_ch: 8 \t Freq: 13.450 - 13.734 GHz \t Ch_w: 40625.0 kHz \t Totbw: 325.00 MHz\n",
      "SPW 37:  N_ch: 8 \t Freq: 13.775 - 14.059 GHz \t Ch_w: 40625.0 kHz \t Totbw: 325.00 MHz\n",
      "SPW 38:  N_ch: 8 \t Freq: 14.100 - 14.384 GHz \t Ch_w: 40625.0 kHz \t Totbw: 325.00 MHz\n",
      "SPW 39:  N_ch: 8 \t Freq: 14.425 - 14.709 GHz \t Ch_w: 40625.0 kHz \t Totbw: 325.00 MHz\n",
      "SPW 40:  N_ch: 8 \t Freq: 14.750 - 15.034 GHz \t Ch_w: 40625.0 kHz \t Totbw: 325.00 MHz\n",
      "SPW 41:  N_ch: 8 \t Freq: 15.075 - 15.359 GHz \t Ch_w: 40625.0 kHz \t Totbw: 325.00 MHz\n",
      "SPW 42:  N_ch: 8 \t Freq: 15.400 - 15.684 GHz \t Ch_w: 40625.0 kHz \t Totbw: 325.00 MHz\n",
      "SPW 43:  N_ch: 8 \t Freq: 15.725 - 16.009 GHz \t Ch_w: 40625.0 kHz \t Totbw: 325.00 MHz\n",
      "SPW 44:  N_ch: 8 \t Freq: 16.050 - 16.334 GHz \t Ch_w: 40625.0 kHz \t Totbw: 325.00 MHz\n",
      "SPW 45:  N_ch: 8 \t Freq: 16.375 - 16.659 GHz \t Ch_w: 40625.0 kHz \t Totbw: 325.00 MHz\n",
      "SPW 46:  N_ch: 8 \t Freq: 16.700 - 16.984 GHz \t Ch_w: 40625.0 kHz \t Totbw: 325.00 MHz\n",
      "SPW 47:  N_ch: 8 \t Freq: 17.025 - 17.309 GHz \t Ch_w: 40625.0 kHz \t Totbw: 325.00 MHz\n",
      "SPW 48:  N_ch: 8 \t Freq: 17.350 - 17.634 GHz \t Ch_w: 40625.0 kHz \t Totbw: 325.00 MHz\n",
      "SPW 49:  N_ch: 8 \t Freq: 17.675 - 17.959 GHz \t Ch_w: 40625.0 kHz \t Totbw: 325.00 MHz\n",
      "\n",
      "Antennas:\n",
      "Names: eo01, eo02, eo03, eo04, eo05, eo06, eo07, eo08, eo09, eo10, eo11, eo12, eo13, eo14, eo15, eo16\n"
     ]
    }
   ],
   "source": [
    "\n",
    "fname = './UDB20241215.ms'\n",
    "print_ms_summary(fname)"
   ]
  },
  {
   "cell_type": "code",
   "execution_count": 61,
   "metadata": {},
   "outputs": [
    {
     "name": "stdout",
     "output_type": "stream",
     "text": [
      "{'begin': {'m0': {'unit': 'd', 'value': 60659.671464120234}, 'refer': 'UTC', 'type': 'epoch'}, 'end': {'m0': {'unit': 'd', 'value': 60659.97980902742}, 'refer': 'UTC', 'type': 'epoch'}}\n"
     ]
    },
    {
     "name": "stderr",
     "output_type": "stream",
     "text": [
      "2024-12-20 23:17:29\tINFO\tmsmetadata_cmpt.cc::open\tPerforming internal consistency checks on ./UDB20241215.ms...\n"
     ]
    }
   ],
   "source": [
    "# get time range for each scan\n",
    "msmd = msmetadata()\n",
    "msmd.open(fname)\n",
    "t_range_msmd = msmd.timerangeforobs(0)\n",
    "\n",
    "# get num of scans\n",
    "n_times = msmd.timesforfield(0)\n",
    "#msmd.close()\n",
    "\n",
    "print(t_range_msmd)"
   ]
  },
  {
   "cell_type": "code",
   "execution_count": 69,
   "metadata": {},
   "outputs": [
    {
     "data": {
      "text/plain": [
       "5"
      ]
     },
     "execution_count": 69,
     "metadata": {},
     "output_type": "execute_result"
    }
   ],
   "source": [
    "msmd.nscans"
   ]
  },
  {
   "cell_type": "code",
   "execution_count": 16,
   "metadata": {},
   "outputs": [
    {
     "data": {
      "text/plain": [
       "True"
      ]
     },
     "execution_count": 16,
     "metadata": {},
     "output_type": "execute_result"
    }
   ],
   "source": [
    "msmd.close()"
   ]
  },
  {
   "cell_type": "code",
   "execution_count": 17,
   "metadata": {},
   "outputs": [],
   "source": [
    "import rotation_corr_util"
   ]
  },
  {
   "cell_type": "code",
   "execution_count": 15,
   "metadata": {},
   "outputs": [
    {
     "name": "stderr",
     "output_type": "stream",
     "text": [
      "2024-12-20 03:38:22\tINFO\tmsmetadata_cmpt.cc::open\tPerforming internal consistency checks on ./UDB20241215.ms...\n"
     ]
    },
    {
     "data": {
      "text/plain": [
       "(datetime.datetime(2024, 12, 15, 16, 6, 54, 499988),\n",
       " datetime.datetime(2024, 12, 15, 23, 30, 55, 499969))"
      ]
     },
     "execution_count": 15,
     "metadata": {},
     "output_type": "execute_result"
    }
   ],
   "source": [
    "rotation_corr_util.get_begin_end_time_from_ms(fname)"
   ]
  },
  {
   "cell_type": "code",
   "execution_count": null,
   "metadata": {},
   "outputs": [],
   "source": [
    "from eovsa_synop import rotation_corr_util\n",
    "from eovsa_synop import wrap_wsclean"
   ]
  },
  {
   "cell_type": "code",
   "execution_count": null,
   "metadata": {},
   "outputs": [],
   "source": []
  },
  {
   "cell_type": "code",
   "execution_count": null,
   "metadata": {},
   "outputs": [],
   "source": []
  },
  {
   "cell_type": "code",
   "execution_count": null,
   "metadata": {},
   "outputs": [],
   "source": []
  }
 ],
 "metadata": {
  "kernelspec": {
   "display_name": "lwa",
   "language": "python",
   "name": "python3"
  },
  "language_info": {
   "codemirror_mode": {
    "name": "ipython",
    "version": 3
   },
   "file_extension": ".py",
   "mimetype": "text/x-python",
   "name": "python",
   "nbconvert_exporter": "python",
   "pygments_lexer": "ipython3",
   "version": "3.10.14"
  }
 },
 "nbformat": 4,
 "nbformat_minor": 2
}
